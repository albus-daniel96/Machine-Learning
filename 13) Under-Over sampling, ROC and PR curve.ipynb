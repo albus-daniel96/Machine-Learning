{
 "cells": [
  {
   "cell_type": "markdown",
   "metadata": {},
   "source": [
    "### Under and Over Sampling, ROC and Precision Recall curve:"
   ]
  },
  {
   "cell_type": "code",
   "execution_count": 5,
   "metadata": {},
   "outputs": [],
   "source": [
    "# Importing the necessary libraries: \n",
    "import numpy as np\n",
    "import pandas as pd\n",
    "import matplotlib.pyplot as plt\n",
    "import seaborn as sns"
   ]
  },
  {
   "cell_type": "code",
   "execution_count": 2,
   "metadata": {},
   "outputs": [
    {
     "data": {
      "text/html": [
       "<div>\n",
       "<style scoped>\n",
       "    .dataframe tbody tr th:only-of-type {\n",
       "        vertical-align: middle;\n",
       "    }\n",
       "\n",
       "    .dataframe tbody tr th {\n",
       "        vertical-align: top;\n",
       "    }\n",
       "\n",
       "    .dataframe thead th {\n",
       "        text-align: right;\n",
       "    }\n",
       "</style>\n",
       "<table border=\"1\" class=\"dataframe\">\n",
       "  <thead>\n",
       "    <tr style=\"text-align: right;\">\n",
       "      <th></th>\n",
       "      <th>Time</th>\n",
       "      <th>V1</th>\n",
       "      <th>V2</th>\n",
       "      <th>V3</th>\n",
       "      <th>V4</th>\n",
       "      <th>V5</th>\n",
       "      <th>V6</th>\n",
       "      <th>V7</th>\n",
       "      <th>V8</th>\n",
       "      <th>V9</th>\n",
       "      <th>...</th>\n",
       "      <th>V21</th>\n",
       "      <th>V22</th>\n",
       "      <th>V23</th>\n",
       "      <th>V24</th>\n",
       "      <th>V25</th>\n",
       "      <th>V26</th>\n",
       "      <th>V27</th>\n",
       "      <th>V28</th>\n",
       "      <th>Amount</th>\n",
       "      <th>Class</th>\n",
       "    </tr>\n",
       "  </thead>\n",
       "  <tbody>\n",
       "    <tr>\n",
       "      <td>0</td>\n",
       "      <td>0.0</td>\n",
       "      <td>-1.359807</td>\n",
       "      <td>-0.072781</td>\n",
       "      <td>2.536347</td>\n",
       "      <td>1.378155</td>\n",
       "      <td>-0.338321</td>\n",
       "      <td>0.462388</td>\n",
       "      <td>0.239599</td>\n",
       "      <td>0.098698</td>\n",
       "      <td>0.363787</td>\n",
       "      <td>...</td>\n",
       "      <td>-0.018307</td>\n",
       "      <td>0.277838</td>\n",
       "      <td>-0.110474</td>\n",
       "      <td>0.066928</td>\n",
       "      <td>0.128539</td>\n",
       "      <td>-0.189115</td>\n",
       "      <td>0.133558</td>\n",
       "      <td>-0.021053</td>\n",
       "      <td>149.62</td>\n",
       "      <td>0</td>\n",
       "    </tr>\n",
       "    <tr>\n",
       "      <td>1</td>\n",
       "      <td>0.0</td>\n",
       "      <td>1.191857</td>\n",
       "      <td>0.266151</td>\n",
       "      <td>0.166480</td>\n",
       "      <td>0.448154</td>\n",
       "      <td>0.060018</td>\n",
       "      <td>-0.082361</td>\n",
       "      <td>-0.078803</td>\n",
       "      <td>0.085102</td>\n",
       "      <td>-0.255425</td>\n",
       "      <td>...</td>\n",
       "      <td>-0.225775</td>\n",
       "      <td>-0.638672</td>\n",
       "      <td>0.101288</td>\n",
       "      <td>-0.339846</td>\n",
       "      <td>0.167170</td>\n",
       "      <td>0.125895</td>\n",
       "      <td>-0.008983</td>\n",
       "      <td>0.014724</td>\n",
       "      <td>2.69</td>\n",
       "      <td>0</td>\n",
       "    </tr>\n",
       "    <tr>\n",
       "      <td>2</td>\n",
       "      <td>1.0</td>\n",
       "      <td>-1.358354</td>\n",
       "      <td>-1.340163</td>\n",
       "      <td>1.773209</td>\n",
       "      <td>0.379780</td>\n",
       "      <td>-0.503198</td>\n",
       "      <td>1.800499</td>\n",
       "      <td>0.791461</td>\n",
       "      <td>0.247676</td>\n",
       "      <td>-1.514654</td>\n",
       "      <td>...</td>\n",
       "      <td>0.247998</td>\n",
       "      <td>0.771679</td>\n",
       "      <td>0.909412</td>\n",
       "      <td>-0.689281</td>\n",
       "      <td>-0.327642</td>\n",
       "      <td>-0.139097</td>\n",
       "      <td>-0.055353</td>\n",
       "      <td>-0.059752</td>\n",
       "      <td>378.66</td>\n",
       "      <td>0</td>\n",
       "    </tr>\n",
       "    <tr>\n",
       "      <td>3</td>\n",
       "      <td>1.0</td>\n",
       "      <td>-0.966272</td>\n",
       "      <td>-0.185226</td>\n",
       "      <td>1.792993</td>\n",
       "      <td>-0.863291</td>\n",
       "      <td>-0.010309</td>\n",
       "      <td>1.247203</td>\n",
       "      <td>0.237609</td>\n",
       "      <td>0.377436</td>\n",
       "      <td>-1.387024</td>\n",
       "      <td>...</td>\n",
       "      <td>-0.108300</td>\n",
       "      <td>0.005274</td>\n",
       "      <td>-0.190321</td>\n",
       "      <td>-1.175575</td>\n",
       "      <td>0.647376</td>\n",
       "      <td>-0.221929</td>\n",
       "      <td>0.062723</td>\n",
       "      <td>0.061458</td>\n",
       "      <td>123.50</td>\n",
       "      <td>0</td>\n",
       "    </tr>\n",
       "    <tr>\n",
       "      <td>4</td>\n",
       "      <td>2.0</td>\n",
       "      <td>-1.158233</td>\n",
       "      <td>0.877737</td>\n",
       "      <td>1.548718</td>\n",
       "      <td>0.403034</td>\n",
       "      <td>-0.407193</td>\n",
       "      <td>0.095921</td>\n",
       "      <td>0.592941</td>\n",
       "      <td>-0.270533</td>\n",
       "      <td>0.817739</td>\n",
       "      <td>...</td>\n",
       "      <td>-0.009431</td>\n",
       "      <td>0.798278</td>\n",
       "      <td>-0.137458</td>\n",
       "      <td>0.141267</td>\n",
       "      <td>-0.206010</td>\n",
       "      <td>0.502292</td>\n",
       "      <td>0.219422</td>\n",
       "      <td>0.215153</td>\n",
       "      <td>69.99</td>\n",
       "      <td>0</td>\n",
       "    </tr>\n",
       "  </tbody>\n",
       "</table>\n",
       "<p>5 rows × 31 columns</p>\n",
       "</div>"
      ],
      "text/plain": [
       "   Time        V1        V2        V3        V4        V5        V6        V7  \\\n",
       "0   0.0 -1.359807 -0.072781  2.536347  1.378155 -0.338321  0.462388  0.239599   \n",
       "1   0.0  1.191857  0.266151  0.166480  0.448154  0.060018 -0.082361 -0.078803   \n",
       "2   1.0 -1.358354 -1.340163  1.773209  0.379780 -0.503198  1.800499  0.791461   \n",
       "3   1.0 -0.966272 -0.185226  1.792993 -0.863291 -0.010309  1.247203  0.237609   \n",
       "4   2.0 -1.158233  0.877737  1.548718  0.403034 -0.407193  0.095921  0.592941   \n",
       "\n",
       "         V8        V9  ...       V21       V22       V23       V24       V25  \\\n",
       "0  0.098698  0.363787  ... -0.018307  0.277838 -0.110474  0.066928  0.128539   \n",
       "1  0.085102 -0.255425  ... -0.225775 -0.638672  0.101288 -0.339846  0.167170   \n",
       "2  0.247676 -1.514654  ...  0.247998  0.771679  0.909412 -0.689281 -0.327642   \n",
       "3  0.377436 -1.387024  ... -0.108300  0.005274 -0.190321 -1.175575  0.647376   \n",
       "4 -0.270533  0.817739  ... -0.009431  0.798278 -0.137458  0.141267 -0.206010   \n",
       "\n",
       "        V26       V27       V28  Amount  Class  \n",
       "0 -0.189115  0.133558 -0.021053  149.62      0  \n",
       "1  0.125895 -0.008983  0.014724    2.69      0  \n",
       "2 -0.139097 -0.055353 -0.059752  378.66      0  \n",
       "3 -0.221929  0.062723  0.061458  123.50      0  \n",
       "4  0.502292  0.219422  0.215153   69.99      0  \n",
       "\n",
       "[5 rows x 31 columns]"
      ]
     },
     "execution_count": 2,
     "metadata": {},
     "output_type": "execute_result"
    }
   ],
   "source": [
    "# Extracting the dataset: \n",
    "df = pd.read_csv('creditcard.csv')\n",
    "df.head()"
   ]
  },
  {
   "cell_type": "code",
   "execution_count": 97,
   "metadata": {},
   "outputs": [],
   "source": [
    "# Impoting the libraries:\n",
    "from sklearn.ensemble import RandomForestClassifier\n",
    "from sklearn.metrics import confusion_matrix, accuracy_score, precision_score\n",
    "from sklearn.model_selection import train_test_split\n",
    "from sklearn.metrics import roc_auc_score, roc_curve\n",
    "from sklearn.metrics import precision_recall_curve, auc\n",
    "from sklearn.metrics import classification_report"
   ]
  },
  {
   "cell_type": "code",
   "execution_count": 102,
   "metadata": {},
   "outputs": [],
   "source": [
    "# Creaing a function for fitting and validating: \n",
    "def model(x,y):\n",
    "    x_train, x_test, y_train, y_test = train_test_split(x,y, test_size = 0.2, random_state = 42)\n",
    "    classifier = RandomForestClassifier(n_estimators=350)\n",
    "    classifier.fit(x_train, y_train)\n",
    "    # making the prediction:\n",
    "    y_pred = classifier.predict(x_test)\n",
    "    y_pred_proba = classifier.predict_proba(x_test)\n",
    "    # Validating the data: \n",
    "    cm = confusion_matrix(y_test, y_pred)\n",
    "    print(cm)\n",
    "    print('Correct Prediction:', np.sum(np.diagonal(cm)))\n",
    "    print('Incorrect Prediction:', x_test.shape[0] - np.sum(np.diagonal(cm)))\n",
    "    print('Accuracy:', str((round(accuracy_score(y_test, y_pred),4)*100)))\n",
    "    print('Precision:', str((round(precision_score(y_test, y_pred),4)*100)))\n",
    "    print('Classification Report:\\n', classification_report(y_test, y_pred))\n",
    "    # Plotting ROC: \n",
    "    # Taking only the positive values:\n",
    "    y_pred_proba = y_pred_proba[:,1]\n",
    "    fps, tps, t = roc_curve(y_test, y_pred_proba)\n",
    "    auc_roc = roc_auc_score(y_test, y_pred_proba)\n",
    "    # Plotting the precision - recall curve: \n",
    "    precision, recall, threshold = precision_recall_curve(y_test, y_pred_proba)\n",
    "    ps_auc = auc(recall, precision)\n",
    "    # Plotting the graphs: \n",
    "    f, axes = plt.subplots(1,2, figsize = (15,8))\n",
    "    area = str('AUC :'+ str(auc_roc))\n",
    "    axes[0].plot(fps, tps, 'tab:orange')\n",
    "    axes[0].set_title('The ROC Graph')\n",
    "    axes[0].set(xlabel = '1 - specificity', ylabel = 'sensitivity')\n",
    "    axes[0].legend([area])\n",
    "    # The second graph\n",
    "    area_2 = str('AUC :' + str(ps_auc))\n",
    "    axes[1].plot(recall, precision, 'tab:green')\n",
    "    axes[1].set_title('The Precision Recall Graph')\n",
    "    axes[1].set(xlabel = 'Recall', ylabel = 'Precision')\n",
    "    axes[1].legend([area_2])\n",
    "    plt.show()\n",
    "    print('Area under ROC:', auc_roc)\n",
    "    print('Area under Precision-Recall:',ps_auc)"
   ]
  },
  {
   "cell_type": "markdown",
   "metadata": {},
   "source": [
    "#### EDA:"
   ]
  },
  {
   "cell_type": "code",
   "execution_count": 3,
   "metadata": {},
   "outputs": [
    {
     "data": {
      "text/plain": [
       "(284807, 31)"
      ]
     },
     "execution_count": 3,
     "metadata": {},
     "output_type": "execute_result"
    }
   ],
   "source": [
    "# Shalpe of the dataset: \n",
    "df.shape"
   ]
  },
  {
   "cell_type": "code",
   "execution_count": 8,
   "metadata": {},
   "outputs": [
    {
     "data": {
      "text/plain": [
       "array([0, 1], dtype=int64)"
      ]
     },
     "execution_count": 8,
     "metadata": {},
     "output_type": "execute_result"
    }
   ],
   "source": [
    "# Values in the output columns: \n",
    "np.unique(df.Class.values)"
   ]
  },
  {
   "cell_type": "code",
   "execution_count": 9,
   "metadata": {},
   "outputs": [
    {
     "data": {
      "image/png": "[encoded data removed]",
      "text/plain": [
       "<Figure size 432x288 with 1 Axes>"
      ]
     },
     "metadata": {
      "needs_background": "light"
     },
     "output_type": "display_data"
    },
    {
     "name": "stdout",
     "output_type": "stream",
     "text": [
      "0    284315\n",
      "1       492\n",
      "Name: Class, dtype: int64\n"
     ]
    }
   ],
   "source": [
    "# Count of each category:\n",
    "sns.countplot(df.Class)\n",
    "plt.show()\n",
    "print(df.Class.value_counts())"
   ]
  },
  {
   "cell_type": "markdown",
   "metadata": {},
   "source": [
    "#### Prediction without balancing: "
   ]
  },
  {
   "cell_type": "code",
   "execution_count": 106,
   "metadata": {},
   "outputs": [],
   "source": [
    "# Defining x and y: \n",
    "x = df.drop(columns=['Class'])\n",
    "y = df.Class.values"
   ]
  },
  {
   "cell_type": "code",
   "execution_count": 107,
   "metadata": {},
   "outputs": [
    {
     "data": {
      "text/plain": [
       "(array([0, 1], dtype=int64), array([284315,    492], dtype=int64))"
      ]
     },
     "execution_count": 107,
     "metadata": {},
     "output_type": "execute_result"
    }
   ],
   "source": [
    "# Count of 1's and 0's\n",
    "np.unique(y, return_counts=True)"
   ]
  },
  {
   "cell_type": "code",
   "execution_count": 108,
   "metadata": {},
   "outputs": [
    {
     "name": "stdout",
     "output_type": "stream",
     "text": [
      "NO SAMPLING APPLIED:\n",
      "\n",
      "[[56862     2]\n",
      " [   21    77]]\n",
      "Correct Prediction: 56939\n",
      "Incorrect Prediction: 23\n",
      "Accuracy: 99.96000000000001\n",
      "Precision: 97.47\n",
      "Classification Report:\n",
      "               precision    recall  f1-score   support\n",
      "\n",
      "           0       1.00      1.00      1.00     56864\n",
      "           1       0.97      0.79      0.87        98\n",
      "\n",
      "    accuracy                           1.00     56962\n",
      "   macro avg       0.99      0.89      0.93     56962\n",
      "weighted avg       1.00      1.00      1.00     56962\n",
      "\n"
     ]
    },
    {
     "data": {
      "image/png": "[encoded data removed]",
      "text/plain": [
       "<Figure size 1080x576 with 2 Axes>"
      ]
     },
     "metadata": {
      "needs_background": "light"
     },
     "output_type": "display_data"
    },
    {
     "name": "stdout",
     "output_type": "stream",
     "text": [
      "Area under ROC: 0.9619118979189876\n",
      "Area under Precision-Recall: 0.8756617734764176\n"
     ]
    }
   ],
   "source": [
    "# Viewing the model performance: \n",
    "print('NO SAMPLING APPLIED:', end = '\\n\\n')\n",
    "model(x,y)"
   ]
  },
  {
   "cell_type": "markdown",
   "metadata": {},
   "source": [
    "#### Balancing the output colums:"
   ]
  },
  {
   "cell_type": "markdown",
   "metadata": {},
   "source": [
    "##### UnderSampling:"
   ]
  },
  {
   "cell_type": "code",
   "execution_count": 10,
   "metadata": {},
   "outputs": [],
   "source": [
    "# Balancing calss 0: \n",
    "class_0_index = df.loc[df.Class == 0].index"
   ]
  },
  {
   "cell_type": "code",
   "execution_count": 11,
   "metadata": {},
   "outputs": [
    {
     "data": {
      "text/plain": [
       "(284315,)"
      ]
     },
     "execution_count": 11,
     "metadata": {},
     "output_type": "execute_result"
    }
   ],
   "source": [
    "class_0_index.shape"
   ]
  },
  {
   "cell_type": "code",
   "execution_count": 12,
   "metadata": {},
   "outputs": [],
   "source": [
    "class_1_index = df.loc[df.Class == 1].index"
   ]
  },
  {
   "cell_type": "code",
   "execution_count": 13,
   "metadata": {},
   "outputs": [
    {
     "data": {
      "text/plain": [
       "(492,)"
      ]
     },
     "execution_count": 13,
     "metadata": {},
     "output_type": "execute_result"
    }
   ],
   "source": [
    "class_1_index.shape"
   ]
  },
  {
   "cell_type": "code",
   "execution_count": 15,
   "metadata": {},
   "outputs": [],
   "source": [
    "undersampled_class_0 = np.random.choice(class_0_index, class_1_index.shape[0], replace = False)"
   ]
  },
  {
   "cell_type": "code",
   "execution_count": 16,
   "metadata": {},
   "outputs": [
    {
     "data": {
      "text/plain": [
       "(492,)"
      ]
     },
     "execution_count": 16,
     "metadata": {},
     "output_type": "execute_result"
    }
   ],
   "source": [
    "undersampled_class_0.shape"
   ]
  },
  {
   "cell_type": "code",
   "execution_count": 22,
   "metadata": {},
   "outputs": [
    {
     "data": {
      "text/plain": [
       "array([169971, 206418, 261039, 277460,  99455,  30106, 118606,  54011,\n",
       "        15578, 243583, 109490,   7921,  78502, 273514, 140220, 138191,\n",
       "       112802, 184509,  30387, 179899, 151307, 110998, 140826, 280938,\n",
       "        75347, 150425, 111182, 187292,  33617, 131918, 214660, 216446,\n",
       "       157763, 255675, 161355, 140251,   2612,  17686,  39715,  98213,\n",
       "       264774, 148085,  77931, 283860,   4100, 113735,  43211, 154595,\n",
       "       191637,  83213,  29881,  49953, 116530,  85672, 215478,  84343,\n",
       "        54344,  32768, 170909, 211415,  87918, 104437, 276458, 222657,\n",
       "       182723, 188453, 101357, 168535, 261310, 195867, 214497,    742,\n",
       "        33465, 152026, 262316,  47529, 246602, 273510,   7495, 172033,\n",
       "        92455, 262155, 190262, 109129,  81542, 274051, 192085,  93999,\n",
       "       216206, 260138, 183281, 119037,  12759,  74960, 147615,  82605,\n",
       "       253051, 228777,  15107,  89126,  87748, 174898, 134772,   8554,\n",
       "       120615,  20852, 208769, 238282, 194135,  70014, 106538,  59174,\n",
       "       190708, 107660, 160752, 277913,  73729,  38313,  58886, 197117,\n",
       "       224176, 278378,  89213,  85563,  35315, 260290,  19480, 142191,\n",
       "       126195, 244429, 157330, 209369, 218294,  68805,  38626, 248695,\n",
       "       244703, 125998, 141785, 196517,  95003,  95450,  30861, 193337,\n",
       "       128113, 186113, 186055, 227896,  19911, 278091, 270063,  87608,\n",
       "       123441, 151796, 107143,  12945, 132010,  59944, 196898, 129241,\n",
       "        41439, 262070, 214618,  69447, 159852,  40644, 254750, 132329,\n",
       "       243243, 114226, 160343,  28300, 154620,  86000, 179158,  17367,\n",
       "       112986, 138059, 161041, 214248, 157092, 187327,  22557,  93879,\n",
       "        19298, 271279, 249257,   1573,  53044, 242357, 218443, 208092,\n",
       "       240583, 184452, 119155,  12328, 174539, 179843, 159420,   2614,\n",
       "       176282,  77481, 177056, 201581,  59264,  47149, 198434, 114363,\n",
       "        33691, 276360,  46093, 165598, 215558,  36348, 229131,  98552,\n",
       "        43277, 127175,  38125,  67153, 106109, 141680, 156144,  63947,\n",
       "       162774,  13895, 149080, 259371, 161823, 104889, 271707,  32388,\n",
       "       222187, 135792, 206278, 173640, 163824, 134453,   3327, 282445,\n",
       "       173851, 270576, 200355, 162652, 209689,   1316, 156192,  59919,\n",
       "        84387,  86578, 240471,    673, 154712,    588, 251314, 206708,\n",
       "        39677, 234966,  54893, 162412, 221757, 106565,  29800, 170915,\n",
       "       172372, 162413, 241740,  95323, 249010, 168757,   8190, 191342,\n",
       "       149962, 229555,  64178,  51790, 261359,  15734, 171998, 215147,\n",
       "       227662, 230511, 186705, 170854,  29698, 125572, 280331, 130319,\n",
       "       256746,  52459,  52271, 160761, 142190,  21527, 133815, 183496,\n",
       "       211018, 181300, 206257, 168722, 146522, 141698,   8822, 223582,\n",
       "       187556,  70622,  24081, 279051,   6696,  11091, 217210,  53745,\n",
       "       264673,  84273,  94301, 227155, 101850, 158520, 171933, 137060,\n",
       "       162326,   8336, 193229, 236468,  94327, 259932,  70050, 120884,\n",
       "       106166, 215195, 224824,  21858,  27012, 220966,  65598, 144949,\n",
       "        34439,  94761, 143550, 161344,  97478, 217141,  92756, 139827,\n",
       "       274542, 274996, 242054, 250212,  36974, 277126, 237245, 275860,\n",
       "         8917, 104193, 231234, 164049, 114988,  13674,  60917, 256793,\n",
       "       206992,  13215,  84519,  83617, 105505,  57356, 128816, 202423,\n",
       "       143389, 281171, 140706,   3325, 202483, 151764, 245964, 169012,\n",
       "        94896, 117173, 154499, 131120, 201083, 153537,  45645, 247369,\n",
       "       175444, 279716, 246008, 114276, 227018, 124568, 218991, 256453,\n",
       "       174403, 155499,   7960, 207603, 280445, 101992,  38259, 176269,\n",
       "       247513, 233415, 150130, 188228, 239692,  62145, 157899,  56833,\n",
       "        11068, 220711, 263219, 168114,  24659, 220792, 193650,  68370,\n",
       "       233841, 110732,   6167, 254352,  59202, 282984, 195071, 192958,\n",
       "       166676,   3796,  49319, 124973, 133456, 215932, 261944, 266663,\n",
       "       266728, 202649, 265422,  32580,  61661,  36257, 267636,  56400,\n",
       "       197308,  45576, 173848, 119185,  68011, 248396, 194296,  31077,\n",
       "       146646, 205110,  67048,  51751, 219059,   3182,  25796, 202495,\n",
       "        77193, 166437, 166208, 212197,  75378,  97896, 182577, 167272,\n",
       "       163522, 168102, 114692, 109017, 215548, 110966, 230000,  39217,\n",
       "       161452, 209575,  22474,  63412,  49179, 148530, 231476,  18591,\n",
       "       146036, 168075, 242283, 131154, 157143, 129631,  28217, 138388,\n",
       "       277336, 213861, 219549,   3889], dtype=int64)"
      ]
     },
     "execution_count": 22,
     "metadata": {},
     "output_type": "execute_result"
    }
   ],
   "source": [
    "undersampled_class_0"
   ]
  },
  {
   "cell_type": "code",
   "execution_count": 29,
   "metadata": {},
   "outputs": [],
   "source": [
    "df_undersampled = pd.concat((df.loc[undersampled_class_0,:],df.loc[class_1_index,:]), axis = 0)"
   ]
  },
  {
   "cell_type": "code",
   "execution_count": 30,
   "metadata": {},
   "outputs": [
    {
     "data": {
      "text/plain": [
       "(984, 31)"
      ]
     },
     "execution_count": 30,
     "metadata": {},
     "output_type": "execute_result"
    }
   ],
   "source": [
    "# EDA on the new dataset: \n",
    "df_undersampled.shape"
   ]
  },
  {
   "cell_type": "code",
   "execution_count": 31,
   "metadata": {},
   "outputs": [
    {
     "data": {
      "text/plain": [
       "1    492\n",
       "0    492\n",
       "Name: Class, dtype: int64"
      ]
     },
     "execution_count": 31,
     "metadata": {},
     "output_type": "execute_result"
    }
   ],
   "source": [
    "df_undersampled.Class.value_counts()"
   ]
  },
  {
   "cell_type": "code",
   "execution_count": 33,
   "metadata": {},
   "outputs": [
    {
     "data": {
      "image/png": "[encoded data removed]",
      "text/plain": [
       "<Figure size 432x288 with 1 Axes>"
      ]
     },
     "metadata": {
      "needs_background": "light"
     },
     "output_type": "display_data"
    }
   ],
   "source": [
    "# Value count after undersamping: \n",
    "sns.countplot(df_undersampled.Class)\n",
    "plt.show()"
   ]
  },
  {
   "cell_type": "code",
   "execution_count": 45,
   "metadata": {},
   "outputs": [],
   "source": [
    "# Developing x and y: \n",
    "x = df_undersampled.drop(columns=['Class'])\n",
    "y = df_undersampled.Class"
   ]
  },
  {
   "cell_type": "code",
   "execution_count": 104,
   "metadata": {},
   "outputs": [
    {
     "name": "stdout",
     "output_type": "stream",
     "text": [
      "UNDERSAMPING OUTPUT:\n",
      "\n",
      "[[96  3]\n",
      " [12 86]]\n",
      "Correct Prediction: 182\n",
      "Incorrect Prediction: 15\n",
      "Accuracy: 92.39\n",
      "Precision: 96.63000000000001\n",
      "Classification Report:\n",
      "               precision    recall  f1-score   support\n",
      "\n",
      "           0       0.89      0.97      0.93        99\n",
      "           1       0.97      0.88      0.92        98\n",
      "\n",
      "    accuracy                           0.92       197\n",
      "   macro avg       0.93      0.92      0.92       197\n",
      "weighted avg       0.93      0.92      0.92       197\n",
      "\n"
     ]
    },
    {
     "data": {
      "image/png": "[encoded data removed]",
      "text/plain": [
       "<Figure size 1080x576 with 2 Axes>"
      ]
     },
     "metadata": {
      "needs_background": "light"
     },
     "output_type": "display_data"
    },
    {
     "name": "stdout",
     "output_type": "stream",
     "text": [
      "Area under ROC: 0.9821686250257678\n",
      "Area under Precision-Recall: 0.9858035720156342\n"
     ]
    }
   ],
   "source": [
    "# Calling the model function for data prediction and validation: \n",
    "print('UNDERSAMPING OUTPUT:', end = '\\n\\n')\n",
    "model(x,y)"
   ]
  },
  {
   "cell_type": "markdown",
   "metadata": {},
   "source": [
    "#### OverSampling:"
   ]
  },
  {
   "cell_type": "code",
   "execution_count": 109,
   "metadata": {},
   "outputs": [],
   "source": [
    "# Importing the libraries: \n",
    "from imblearn.over_sampling import SMOTE"
   ]
  },
  {
   "cell_type": "code",
   "execution_count": 110,
   "metadata": {},
   "outputs": [],
   "source": [
    "# Defining x and y: \n",
    "x = df.drop(columns=['Class'])\n",
    "y = df.Class.values"
   ]
  },
  {
   "cell_type": "code",
   "execution_count": 111,
   "metadata": {},
   "outputs": [
    {
     "data": {
      "text/plain": [
       "(array([0, 1], dtype=int64), array([284315,    492], dtype=int64))"
      ]
     },
     "execution_count": 111,
     "metadata": {},
     "output_type": "execute_result"
    }
   ],
   "source": [
    "# Checking the differenct in 1's and 0's \n",
    "np.unique(y, return_counts=True)"
   ]
  },
  {
   "cell_type": "code",
   "execution_count": 112,
   "metadata": {},
   "outputs": [],
   "source": [
    "# Performing the over sampling: \n",
    "x_oversample, y_oversample = SMOTE().fit_sample(x,y)"
   ]
  },
  {
   "cell_type": "code",
   "execution_count": 113,
   "metadata": {},
   "outputs": [
    {
     "data": {
      "text/plain": [
       "(array([0, 1], dtype=int64), array([284315, 284315], dtype=int64))"
      ]
     },
     "execution_count": 113,
     "metadata": {},
     "output_type": "execute_result"
    }
   ],
   "source": [
    "# Checking y_oversample now: \n",
    "np.unique(y_oversample, return_counts=True)"
   ]
  },
  {
   "cell_type": "code",
   "execution_count": 117,
   "metadata": {},
   "outputs": [
    {
     "data": {
      "image/png": "[encoded data removed]",
      "text/plain": [
       "<Figure size 432x288 with 1 Axes>"
      ]
     },
     "metadata": {
      "needs_background": "light"
     },
     "output_type": "display_data"
    },
    {
     "data": {
      "text/plain": [
       "(array([0, 1], dtype=int64), array([284315, 284315], dtype=int64))"
      ]
     },
     "execution_count": 117,
     "metadata": {},
     "output_type": "execute_result"
    }
   ],
   "source": [
    "# Count plot: \n",
    "sns.countplot(y_oversample)\n",
    "plt.show()\n",
    "np.unique(y_oversample, return_counts=True)"
   ]
  },
  {
   "cell_type": "code",
   "execution_count": 114,
   "metadata": {},
   "outputs": [
    {
     "name": "stdout",
     "output_type": "stream",
     "text": [
      "OVER SAMPLING:\n",
      "[[56862     2]\n",
      " [   22    76]]\n",
      "Correct Prediction: 56938\n",
      "Incorrect Prediction: 24\n",
      "Accuracy: 99.96000000000001\n",
      "Precision: 97.44\n",
      "Classification Report:\n",
      "               precision    recall  f1-score   support\n",
      "\n",
      "           0       1.00      1.00      1.00     56864\n",
      "           1       0.97      0.78      0.86        98\n",
      "\n",
      "    accuracy                           1.00     56962\n",
      "   macro avg       0.99      0.89      0.93     56962\n",
      "weighted avg       1.00      1.00      1.00     56962\n",
      "\n"
     ]
    },
    {
     "data": {
      "image/png": "[encoded data removed]",
      "text/plain": [
       "<Figure size 1080x576 with 2 Axes>"
      ]
     },
     "metadata": {
      "needs_background": "light"
     },
     "output_type": "display_data"
    },
    {
     "name": "stdout",
     "output_type": "stream",
     "text": [
      "Area under ROC: 0.9610227373870202\n",
      "Area under Precision-Recall: 0.8700373987827572\n"
     ]
    }
   ],
   "source": [
    "# Predicting and analysing:\n",
    "print('OVER SAMPLING:')\n",
    "model(x,y)"
   ]
  },
  {
   "cell_type": "code",
   "execution_count": null,
   "metadata": {},
   "outputs": [],
   "source": []
  }
 ],
 "metadata": {
  "kernelspec": {
   "display_name": "Python 3",
   "language": "python",
   "name": "python3"
  },
  "language_info": {
   "codemirror_mode": {
    "name": "ipython",
    "version": 3
   },
   "file_extension": ".py",
   "mimetype": "text/x-python",
   "name": "python",
   "nbconvert_exporter": "python",
   "pygments_lexer": "ipython3",
   "version": "3.7.4"
  }
 },
 "nbformat": 4,
 "nbformat_minor": 2
}
